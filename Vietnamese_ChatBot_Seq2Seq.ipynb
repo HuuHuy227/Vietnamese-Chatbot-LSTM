{
  "metadata": {
    "kernelspec": {
      "language": "python",
      "display_name": "Python 3",
      "name": "python3"
    },
    "language_info": {
      "name": "python",
      "version": "3.7.12",
      "mimetype": "text/x-python",
      "codemirror_mode": {
        "name": "ipython",
        "version": 3
      },
      "pygments_lexer": "ipython3",
      "nbconvert_exporter": "python",
      "file_extension": ".py"
    },
    "colab": {
      "name": "Vietnamese_ChatBot_Seq2Seq.ipynb",
      "provenance": [],
      "collapsed_sections": []
    }
  },
  "nbformat_minor": 0,
  "nbformat": 4,
  "cells": [
    {
      "cell_type": "markdown",
      "source": [
        "# Xây dựng Chatbot sử dụng mô hình Sequence2Sequence"
      ],
      "metadata": {
        "id": "N10v8EqGI1Ro"
      }
    },
    {
      "cell_type": "code",
      "source": [
        "!pip install underthesea"
      ],
      "metadata": {
        "id": "s16yZMa6JCQt",
        "outputId": "972cb9fd-abb0-4eb9-a604-9f4c4772200e",
        "execution": {
          "iopub.status.busy": "2022-05-19T08:23:30.447773Z",
          "iopub.execute_input": "2022-05-19T08:23:30.448482Z",
          "iopub.status.idle": "2022-05-19T08:23:39.579857Z",
          "shell.execute_reply.started": "2022-05-19T08:23:30.448387Z",
          "shell.execute_reply": "2022-05-19T08:23:39.578882Z"
        },
        "trusted": true,
        "colab": {
          "base_uri": "https://localhost:8080/"
        }
      },
      "execution_count": null,
      "outputs": [
        {
          "output_type": "stream",
          "name": "stdout",
          "text": [
            "Looking in indexes: https://pypi.org/simple, https://us-python.pkg.dev/colab-wheels/public/simple/\n",
            "Collecting underthesea\n",
            "  Downloading underthesea-1.3.4-py3-none-any.whl (7.6 MB)\n",
            "\u001b[K     |████████████████████████████████| 7.6 MB 5.5 MB/s \n",
            "\u001b[?25hRequirement already satisfied: nltk in /usr/local/lib/python3.7/dist-packages (from underthesea) (3.2.5)\n",
            "Collecting underthesea-core==0.0.4_alpha.10\n",
            "  Downloading underthesea_core-0.0.4_alpha.10-cp37-cp37m-manylinux2010_x86_64.whl (581 kB)\n",
            "\u001b[K     |████████████████████████████████| 581 kB 44.6 MB/s \n",
            "\u001b[?25hRequirement already satisfied: Click>=6.0 in /usr/local/lib/python3.7/dist-packages (from underthesea) (7.1.2)\n",
            "Requirement already satisfied: PyYAML in /usr/local/lib/python3.7/dist-packages (from underthesea) (3.13)\n",
            "Requirement already satisfied: scikit-learn in /usr/local/lib/python3.7/dist-packages (from underthesea) (1.0.2)\n",
            "Requirement already satisfied: requests in /usr/local/lib/python3.7/dist-packages (from underthesea) (2.23.0)\n",
            "Requirement already satisfied: tqdm in /usr/local/lib/python3.7/dist-packages (from underthesea) (4.64.0)\n",
            "Collecting unidecode\n",
            "  Downloading Unidecode-1.3.4-py3-none-any.whl (235 kB)\n",
            "\u001b[K     |████████████████████████████████| 235 kB 51.0 MB/s \n",
            "\u001b[?25hRequirement already satisfied: joblib in /usr/local/lib/python3.7/dist-packages (from underthesea) (1.1.0)\n",
            "Collecting python-crfsuite>=0.9.6\n",
            "  Downloading python_crfsuite-0.9.8-cp37-cp37m-manylinux_2_17_x86_64.manylinux2014_x86_64.whl (965 kB)\n",
            "\u001b[K     |████████████████████████████████| 965 kB 43.7 MB/s \n",
            "\u001b[?25hRequirement already satisfied: six in /usr/local/lib/python3.7/dist-packages (from nltk->underthesea) (1.15.0)\n",
            "Requirement already satisfied: urllib3!=1.25.0,!=1.25.1,<1.26,>=1.21.1 in /usr/local/lib/python3.7/dist-packages (from requests->underthesea) (1.24.3)\n",
            "Requirement already satisfied: certifi>=2017.4.17 in /usr/local/lib/python3.7/dist-packages (from requests->underthesea) (2022.5.18.1)\n",
            "Requirement already satisfied: chardet<4,>=3.0.2 in /usr/local/lib/python3.7/dist-packages (from requests->underthesea) (3.0.4)\n",
            "Requirement already satisfied: idna<3,>=2.5 in /usr/local/lib/python3.7/dist-packages (from requests->underthesea) (2.10)\n",
            "Requirement already satisfied: scipy>=1.1.0 in /usr/local/lib/python3.7/dist-packages (from scikit-learn->underthesea) (1.4.1)\n",
            "Requirement already satisfied: numpy>=1.14.6 in /usr/local/lib/python3.7/dist-packages (from scikit-learn->underthesea) (1.21.6)\n",
            "Requirement already satisfied: threadpoolctl>=2.0.0 in /usr/local/lib/python3.7/dist-packages (from scikit-learn->underthesea) (3.1.0)\n",
            "Installing collected packages: unidecode, underthesea-core, python-crfsuite, underthesea\n",
            "Successfully installed python-crfsuite-0.9.8 underthesea-1.3.4 underthesea-core-0.0.4a10 unidecode-1.3.4\n"
          ]
        }
      ]
    },
    {
      "cell_type": "code",
      "source": [
        "from google.colab import drive\n",
        "drive.mount('/content/drive')"
      ],
      "metadata": {
        "colab": {
          "base_uri": "https://localhost:8080/"
        },
        "id": "MpZRoM78AHva",
        "outputId": "c5f18726-95d7-4ba3-a662-2767538b4a32"
      },
      "execution_count": null,
      "outputs": [
        {
          "output_type": "stream",
          "name": "stdout",
          "text": [
            "Mounted at /content/drive\n"
          ]
        }
      ]
    },
    {
      "cell_type": "code",
      "source": [
        "import tensorflow as tf\n",
        "import pandas as pd\n",
        "import numpy as np\n",
        "import re,string\n",
        "from gensim.models import KeyedVectors\n",
        "from collections import Counter\n",
        "from underthesea import word_tokenize\n",
        "from tensorflow.keras.preprocessing.text import Tokenizer \n",
        "from tensorflow.keras.preprocessing.sequence import pad_sequences\n",
        "from keras.layers import Input, LSTM, Embedding, Dense\n",
        "from keras.models import Model, Sequential\n",
        "from tensorflow.keras.optimizers import RMSprop\n",
        "from keras.losses import categorical_crossentropy\n",
        "from keras import utils\n",
        "from tensorflow.keras import preprocessing, utils, activations\n",
        "from keras.callbacks import ModelCheckpoint\n",
        "import warnings\n",
        "warnings.filterwarnings('ignore')"
      ],
      "metadata": {
        "id": "BECuUXItI1o5",
        "execution": {
          "iopub.status.busy": "2022-05-19T08:23:39.582463Z",
          "iopub.execute_input": "2022-05-19T08:23:39.582814Z",
          "iopub.status.idle": "2022-05-19T08:23:42.214441Z",
          "shell.execute_reply.started": "2022-05-19T08:23:39.582766Z",
          "shell.execute_reply": "2022-05-19T08:23:42.213649Z"
        },
        "trusted": true
      },
      "execution_count": null,
      "outputs": []
    },
    {
      "cell_type": "code",
      "source": [
        "df = pd.read_csv('/content/drive/MyDrive/dữ liệu chatbot question-answer short style.csv')\n",
        "df.head()"
      ],
      "metadata": {
        "id": "_Va-SWVOJLeO",
        "outputId": "7509a516-4aee-488a-99d6-9f6e716dc5f2",
        "execution": {
          "iopub.status.busy": "2022-05-19T08:23:42.223512Z",
          "iopub.execute_input": "2022-05-19T08:23:42.225630Z",
          "iopub.status.idle": "2022-05-19T08:23:42.276053Z",
          "shell.execute_reply.started": "2022-05-19T08:23:42.223899Z",
          "shell.execute_reply": "2022-05-19T08:23:42.271558Z"
        },
        "trusted": true,
        "colab": {
          "base_uri": "https://localhost:8080/",
          "height": 206
        }
      },
      "execution_count": null,
      "outputs": [
        {
          "output_type": "execute_result",
          "data": {
            "text/plain": [
              "   Unnamed: 0                             user_a  \\\n",
              "0           0                Thích mẫu người nào   \n",
              "1           1                  Có crush ai không   \n",
              "2           2           Tại sao lại thích bạn dó   \n",
              "3           3            Có hay nói chuyện không   \n",
              "4           4  Bạn kia có bắt chuyện trước không   \n",
              "\n",
              "                             user_b  \n",
              "0      Dễ thương, tóc dài, da trắng  \n",
              "1                 Có 1 bạn cùng lớp  \n",
              "2  Vì đáp ứng những yêu cầu của tao  \n",
              "3            Hay nhắn tin messenger  \n",
              "4                        Có đôi khi  "
            ],
            "text/html": [
              "\n",
              "  <div id=\"df-d4bc1c55-7f4e-4f4d-8bb2-5331270188dd\">\n",
              "    <div class=\"colab-df-container\">\n",
              "      <div>\n",
              "<style scoped>\n",
              "    .dataframe tbody tr th:only-of-type {\n",
              "        vertical-align: middle;\n",
              "    }\n",
              "\n",
              "    .dataframe tbody tr th {\n",
              "        vertical-align: top;\n",
              "    }\n",
              "\n",
              "    .dataframe thead th {\n",
              "        text-align: right;\n",
              "    }\n",
              "</style>\n",
              "<table border=\"1\" class=\"dataframe\">\n",
              "  <thead>\n",
              "    <tr style=\"text-align: right;\">\n",
              "      <th></th>\n",
              "      <th>Unnamed: 0</th>\n",
              "      <th>user_a</th>\n",
              "      <th>user_b</th>\n",
              "    </tr>\n",
              "  </thead>\n",
              "  <tbody>\n",
              "    <tr>\n",
              "      <th>0</th>\n",
              "      <td>0</td>\n",
              "      <td>Thích mẫu người nào</td>\n",
              "      <td>Dễ thương, tóc dài, da trắng</td>\n",
              "    </tr>\n",
              "    <tr>\n",
              "      <th>1</th>\n",
              "      <td>1</td>\n",
              "      <td>Có crush ai không</td>\n",
              "      <td>Có 1 bạn cùng lớp</td>\n",
              "    </tr>\n",
              "    <tr>\n",
              "      <th>2</th>\n",
              "      <td>2</td>\n",
              "      <td>Tại sao lại thích bạn dó</td>\n",
              "      <td>Vì đáp ứng những yêu cầu của tao</td>\n",
              "    </tr>\n",
              "    <tr>\n",
              "      <th>3</th>\n",
              "      <td>3</td>\n",
              "      <td>Có hay nói chuyện không</td>\n",
              "      <td>Hay nhắn tin messenger</td>\n",
              "    </tr>\n",
              "    <tr>\n",
              "      <th>4</th>\n",
              "      <td>4</td>\n",
              "      <td>Bạn kia có bắt chuyện trước không</td>\n",
              "      <td>Có đôi khi</td>\n",
              "    </tr>\n",
              "  </tbody>\n",
              "</table>\n",
              "</div>\n",
              "      <button class=\"colab-df-convert\" onclick=\"convertToInteractive('df-d4bc1c55-7f4e-4f4d-8bb2-5331270188dd')\"\n",
              "              title=\"Convert this dataframe to an interactive table.\"\n",
              "              style=\"display:none;\">\n",
              "        \n",
              "  <svg xmlns=\"http://www.w3.org/2000/svg\" height=\"24px\"viewBox=\"0 0 24 24\"\n",
              "       width=\"24px\">\n",
              "    <path d=\"M0 0h24v24H0V0z\" fill=\"none\"/>\n",
              "    <path d=\"M18.56 5.44l.94 2.06.94-2.06 2.06-.94-2.06-.94-.94-2.06-.94 2.06-2.06.94zm-11 1L8.5 8.5l.94-2.06 2.06-.94-2.06-.94L8.5 2.5l-.94 2.06-2.06.94zm10 10l.94 2.06.94-2.06 2.06-.94-2.06-.94-.94-2.06-.94 2.06-2.06.94z\"/><path d=\"M17.41 7.96l-1.37-1.37c-.4-.4-.92-.59-1.43-.59-.52 0-1.04.2-1.43.59L10.3 9.45l-7.72 7.72c-.78.78-.78 2.05 0 2.83L4 21.41c.39.39.9.59 1.41.59.51 0 1.02-.2 1.41-.59l7.78-7.78 2.81-2.81c.8-.78.8-2.07 0-2.86zM5.41 20L4 18.59l7.72-7.72 1.47 1.35L5.41 20z\"/>\n",
              "  </svg>\n",
              "      </button>\n",
              "      \n",
              "  <style>\n",
              "    .colab-df-container {\n",
              "      display:flex;\n",
              "      flex-wrap:wrap;\n",
              "      gap: 12px;\n",
              "    }\n",
              "\n",
              "    .colab-df-convert {\n",
              "      background-color: #E8F0FE;\n",
              "      border: none;\n",
              "      border-radius: 50%;\n",
              "      cursor: pointer;\n",
              "      display: none;\n",
              "      fill: #1967D2;\n",
              "      height: 32px;\n",
              "      padding: 0 0 0 0;\n",
              "      width: 32px;\n",
              "    }\n",
              "\n",
              "    .colab-df-convert:hover {\n",
              "      background-color: #E2EBFA;\n",
              "      box-shadow: 0px 1px 2px rgba(60, 64, 67, 0.3), 0px 1px 3px 1px rgba(60, 64, 67, 0.15);\n",
              "      fill: #174EA6;\n",
              "    }\n",
              "\n",
              "    [theme=dark] .colab-df-convert {\n",
              "      background-color: #3B4455;\n",
              "      fill: #D2E3FC;\n",
              "    }\n",
              "\n",
              "    [theme=dark] .colab-df-convert:hover {\n",
              "      background-color: #434B5C;\n",
              "      box-shadow: 0px 1px 3px 1px rgba(0, 0, 0, 0.15);\n",
              "      filter: drop-shadow(0px 1px 2px rgba(0, 0, 0, 0.3));\n",
              "      fill: #FFFFFF;\n",
              "    }\n",
              "  </style>\n",
              "\n",
              "      <script>\n",
              "        const buttonEl =\n",
              "          document.querySelector('#df-d4bc1c55-7f4e-4f4d-8bb2-5331270188dd button.colab-df-convert');\n",
              "        buttonEl.style.display =\n",
              "          google.colab.kernel.accessAllowed ? 'block' : 'none';\n",
              "\n",
              "        async function convertToInteractive(key) {\n",
              "          const element = document.querySelector('#df-d4bc1c55-7f4e-4f4d-8bb2-5331270188dd');\n",
              "          const dataTable =\n",
              "            await google.colab.kernel.invokeFunction('convertToInteractive',\n",
              "                                                     [key], {});\n",
              "          if (!dataTable) return;\n",
              "\n",
              "          const docLinkHtml = 'Like what you see? Visit the ' +\n",
              "            '<a target=\"_blank\" href=https://colab.research.google.com/notebooks/data_table.ipynb>data table notebook</a>'\n",
              "            + ' to learn more about interactive tables.';\n",
              "          element.innerHTML = '';\n",
              "          dataTable['output_type'] = 'display_data';\n",
              "          await google.colab.output.renderOutput(dataTable, element);\n",
              "          const docLink = document.createElement('div');\n",
              "          docLink.innerHTML = docLinkHtml;\n",
              "          element.appendChild(docLink);\n",
              "        }\n",
              "      </script>\n",
              "    </div>\n",
              "  </div>\n",
              "  "
            ]
          },
          "metadata": {},
          "execution_count": 4
        }
      ]
    },
    {
      "cell_type": "code",
      "source": [
        "df.shape"
      ],
      "metadata": {
        "id": "7pSEtATtj5VL",
        "outputId": "722a73a9-1773-4429-e9d1-4ba53ea61f54",
        "execution": {
          "iopub.status.busy": "2022-05-19T08:23:42.280057Z",
          "iopub.execute_input": "2022-05-19T08:23:42.282137Z",
          "iopub.status.idle": "2022-05-19T08:23:42.292089Z",
          "shell.execute_reply.started": "2022-05-19T08:23:42.282098Z",
          "shell.execute_reply": "2022-05-19T08:23:42.291317Z"
        },
        "trusted": true,
        "colab": {
          "base_uri": "https://localhost:8080/"
        }
      },
      "execution_count": null,
      "outputs": [
        {
          "output_type": "execute_result",
          "data": {
            "text/plain": [
              "(5900, 3)"
            ]
          },
          "metadata": {},
          "execution_count": 5
        }
      ]
    },
    {
      "cell_type": "markdown",
      "source": [
        "**Text Cleaning / Preprocessing**"
      ],
      "metadata": {
        "id": "WHl7tRh9lO9n"
      }
    },
    {
      "cell_type": "code",
      "source": [
        "df.isna().sum()"
      ],
      "metadata": {
        "id": "UkcfrZNKlm9i",
        "outputId": "a31a612b-2898-4f68-829a-af271da25c04",
        "execution": {
          "iopub.status.busy": "2022-05-19T08:23:42.300325Z",
          "iopub.execute_input": "2022-05-19T08:23:42.300824Z",
          "iopub.status.idle": "2022-05-19T08:23:42.311437Z",
          "shell.execute_reply.started": "2022-05-19T08:23:42.300788Z",
          "shell.execute_reply": "2022-05-19T08:23:42.310745Z"
        },
        "trusted": true,
        "colab": {
          "base_uri": "https://localhost:8080/"
        }
      },
      "execution_count": null,
      "outputs": [
        {
          "output_type": "execute_result",
          "data": {
            "text/plain": [
              "Unnamed: 0    0\n",
              "user_a        0\n",
              "user_b        1\n",
              "dtype: int64"
            ]
          },
          "metadata": {},
          "execution_count": 6
        }
      ]
    },
    {
      "cell_type": "code",
      "source": [
        "idx = df[df['user_b'].isnull()].index.tolist() # Get index of nan row\n",
        "print('Question of nan answer: ' ,df['user_a'][idx].values)"
      ],
      "metadata": {
        "id": "6rEQUmGqhPJY",
        "outputId": "9a9a930d-3385-4088-96ec-9fee241c8103",
        "execution": {
          "iopub.status.busy": "2022-05-19T08:23:42.312845Z",
          "iopub.execute_input": "2022-05-19T08:23:42.313314Z",
          "iopub.status.idle": "2022-05-19T08:23:42.329117Z",
          "shell.execute_reply.started": "2022-05-19T08:23:42.313277Z",
          "shell.execute_reply": "2022-05-19T08:23:42.323566Z"
        },
        "trusted": true,
        "colab": {
          "base_uri": "https://localhost:8080/"
        }
      },
      "execution_count": null,
      "outputs": [
        {
          "output_type": "stream",
          "name": "stdout",
          "text": [
            "Question of nan answer:  ['Anh chị em làm gì?']\n"
          ]
        }
      ]
    },
    {
      "cell_type": "code",
      "source": [
        "# Fill in nan row value\n",
        "df['user_b'] = df['user_b'].fillna('Luật sư').values "
      ],
      "metadata": {
        "id": "shyshZ51lsWG",
        "execution": {
          "iopub.status.busy": "2022-05-19T08:23:42.330535Z",
          "iopub.execute_input": "2022-05-19T08:23:42.331020Z",
          "iopub.status.idle": "2022-05-19T08:23:42.336588Z",
          "shell.execute_reply.started": "2022-05-19T08:23:42.330985Z",
          "shell.execute_reply": "2022-05-19T08:23:42.335896Z"
        },
        "trusted": true
      },
      "execution_count": null,
      "outputs": []
    },
    {
      "cell_type": "code",
      "source": [
        "# Preprocessing\n",
        "EMOTICONS = { \n",
        "    u\":-3\":\"Happy face smiley\",\n",
        "    u\":3\":\"Happy face smiley\",\n",
        "    u\":->\":\"Happy face smiley\",\n",
        "    u\":>\":\"Happy face smiley\",\n",
        "    u\":))\":\"Happy face smiley\",\n",
        "    u\":)))\":\"Happy face smiley\",\n",
        "    u\":))))\":\"Happy face smiley\",\n",
        "    u\":'<\":\"Happy face smiley\",\n",
        "    u\":)\":\"Happy face smiley\",\n",
        "    u\":(\":\"Happy face smiley\",\n",
        "    u\":((\":\"Happy face smiley\",\n",
        "    u\":‑D\":\"Laughing, big grin or laugh with glasses\",\n",
        "    u\":D\":\"Laughing, big grin or laugh with glasses\",\n",
        "    u\"XD\":\"Laughing, big grin or laugh with glasses\",\n",
        "    u\"=D\":\"Laughing, big grin or laugh with glasses\",\n",
        "    u\":‑c\":\"Frown, sad, andry or pouting\",\n",
        "    u\":c\":\"Frown, sad, andry or pouting\",\n",
        "    u\":‑<\":\"Frown, sad, andry or pouting\",\n",
        "    u\":<\":\"Frown, sad, andry or pouting\",\n",
        "    u\":@\":\"Frown, sad, andry or pouting\",\n",
        "    u\"D:\":\"Sadness\",\n",
        "    u\":O\":\"Surprise\",\n",
        "    u\":o\":\"Surprise\",\n",
        "}\n",
        "\n",
        "cnt = Counter()\n",
        "for text in df[\"user_b\"].values:\n",
        "    for word in text.split():\n",
        "        cnt[word] += 1\n",
        "\n",
        "RAREWORDS = set([w for (w, wc) in cnt.most_common()[:-10-1:-1]]) #Get top 10 rare word\n",
        "\n",
        "def remove_emoticons(text):\n",
        "    \"Function to remove emoticons\"\n",
        "    arr = [word for word in text.split() if word not in EMOTICONS.keys()]\n",
        "    return \" \".join(arr)\n",
        "\n",
        "def remove_rarewords(text):\n",
        "    \"\"\"custom function to remove the rare words\"\"\"\n",
        "    return \" \".join([word for word in str(text).split() if word not in RAREWORDS])\n",
        "\n",
        "def preprocessing(df): \n",
        "  df[\"user_a\"] = df[\"user_a\"].apply(lambda ele: ele.translate(str.maketrans('', '', string.punctuation))) # Remove punctuation\n",
        "  df[\"user_b\"] = df[\"user_b\"].apply(lambda ele: ele.translate(str.maketrans('', '', string.punctuation))) \n",
        "  df[\"user_a\"] = df[\"user_a\"].apply(lambda ele: remove_emoticons(ele)) # Remove emoticons\n",
        "  df[\"user_b\"] = df[\"user_b\"].apply(lambda ele: remove_emoticons(ele))\n",
        "  df[\"user_a\"] = df[\"user_a\"].apply(lambda ele: remove_rarewords(ele)) # Remove rarewords\n",
        "  df[\"user_b\"] = df[\"user_b\"].apply(lambda ele: remove_rarewords(ele))\n",
        "  df['user_b'] = df['user_b'].apply(lambda ele: 'START ' + ele + ' END')\n",
        "  df[\"user_a\"] = df[\"user_a\"].apply(lambda ele: ele.lower()) # convert text to lowercase\n",
        "  df[\"user_b\"] = df[\"user_b\"].apply(lambda ele: ele.lower()) \n",
        "  \n",
        "  return df\n",
        "\n",
        "df = preprocessing(df)"
      ],
      "metadata": {
        "id": "hYVnIqkEJTTj",
        "execution": {
          "iopub.status.busy": "2022-05-19T08:23:42.338258Z",
          "iopub.execute_input": "2022-05-19T08:23:42.338798Z",
          "iopub.status.idle": "2022-05-19T08:23:42.524908Z",
          "shell.execute_reply.started": "2022-05-19T08:23:42.338760Z",
          "shell.execute_reply": "2022-05-19T08:23:42.524152Z"
        },
        "trusted": true
      },
      "execution_count": null,
      "outputs": []
    },
    {
      "cell_type": "code",
      "source": [
        "data = df.values #numpy \n",
        "questions = data[:,1] # convert question to a list\n",
        "answers = data[:,2] # convert answer that match with question to list\n",
        "print(questions[:5]) \n",
        "print(answers[:5])"
      ],
      "metadata": {
        "id": "hHcACgVuJWQf",
        "outputId": "5f09c3f3-6d38-44e2-a789-d7261b17bbbd",
        "execution": {
          "iopub.status.busy": "2022-05-19T08:23:42.526890Z",
          "iopub.execute_input": "2022-05-19T08:23:42.527402Z",
          "iopub.status.idle": "2022-05-19T08:23:42.534865Z",
          "shell.execute_reply.started": "2022-05-19T08:23:42.527363Z",
          "shell.execute_reply": "2022-05-19T08:23:42.533877Z"
        },
        "trusted": true,
        "colab": {
          "base_uri": "https://localhost:8080/"
        }
      },
      "execution_count": null,
      "outputs": [
        {
          "output_type": "stream",
          "name": "stdout",
          "text": [
            "['thích mẫu người nào' 'có crush ai không' 'tại sao lại thích bạn dó'\n",
            " 'có hay nói chuyện không' 'bạn kia có bắt chuyện trước không']\n",
            "['start dễ thương tóc dài da trắng end' 'start có 1 bạn cùng lớp end'\n",
            " 'start vì đáp ứng những yêu cầu của tao end'\n",
            " 'start hay nhắn tin messenger end' 'start có đôi khi end']\n"
          ]
        }
      ]
    },
    {
      "cell_type": "markdown",
      "source": [
        "**Tokenization and Encode, Decode**"
      ],
      "metadata": {
        "id": "3GalJfC-yhwD"
      }
    },
    {
      "cell_type": "code",
      "source": [
        "# Tokenization questions\n",
        "questions = [word_tokenize(ques) for ques in questions]\n",
        "print(len(questions))\n",
        "print(questions[:3])"
      ],
      "metadata": {
        "id": "tM0OEAcmJZZY",
        "outputId": "12383078-08aa-4eec-b6b6-15744b132e76",
        "execution": {
          "iopub.status.busy": "2022-05-19T08:23:42.536708Z",
          "iopub.execute_input": "2022-05-19T08:23:42.537039Z",
          "iopub.status.idle": "2022-05-19T08:23:43.860354Z",
          "shell.execute_reply.started": "2022-05-19T08:23:42.537000Z",
          "shell.execute_reply": "2022-05-19T08:23:43.859545Z"
        },
        "trusted": true,
        "colab": {
          "base_uri": "https://localhost:8080/"
        }
      },
      "execution_count": null,
      "outputs": [
        {
          "output_type": "stream",
          "name": "stdout",
          "text": [
            "5900\n",
            "[['thích', 'mẫu', 'người', 'nào'], ['có', 'crush', 'ai', 'không'], ['tại sao', 'lại', 'thích', 'bạn', 'dó']]\n"
          ]
        }
      ]
    },
    {
      "cell_type": "code",
      "source": [
        "# Tokenization answer\n",
        "answers = [word_tokenize(ans) for ans in answers]\n",
        "print(len(answers))\n",
        "print(answers[:3])"
      ],
      "metadata": {
        "id": "axGM_AzyKMP-",
        "outputId": "a4ef1e16-5a03-4be3-cbba-1f0e4d27d260",
        "execution": {
          "iopub.status.busy": "2022-05-19T08:23:43.861805Z",
          "iopub.execute_input": "2022-05-19T08:23:43.862231Z",
          "iopub.status.idle": "2022-05-19T08:23:45.240238Z",
          "shell.execute_reply.started": "2022-05-19T08:23:43.862192Z",
          "shell.execute_reply": "2022-05-19T08:23:45.239423Z"
        },
        "trusted": true,
        "colab": {
          "base_uri": "https://localhost:8080/"
        }
      },
      "execution_count": null,
      "outputs": [
        {
          "output_type": "stream",
          "name": "stdout",
          "text": [
            "5900\n",
            "[['start', 'dễ thương', 'tóc', 'dài', 'da', 'trắng', 'end'], ['start', 'có', '1', 'bạn', 'cùng', 'lớp', 'end'], ['start', 'vì', 'đáp ứng', 'những', 'yêu cầu', 'của', 'tao', 'end']]\n"
          ]
        }
      ]
    },
    {
      "cell_type": "code",
      "source": [
        "tokenizer = Tokenizer()\n",
        "tokenizer.fit_on_texts(questions + answers)\n",
        "VOCAB_SIZE = len(tokenizer.word_index) + 1\n",
        "print( 'VOCAB SIZE : {}'.format( VOCAB_SIZE ))"
      ],
      "metadata": {
        "id": "QsR71gvjKC1-",
        "outputId": "e6f15fae-c2df-4012-8a80-d250be925782",
        "execution": {
          "iopub.status.busy": "2022-05-19T08:23:45.241647Z",
          "iopub.execute_input": "2022-05-19T08:23:45.241936Z",
          "iopub.status.idle": "2022-05-19T08:23:45.308709Z",
          "shell.execute_reply.started": "2022-05-19T08:23:45.241888Z",
          "shell.execute_reply": "2022-05-19T08:23:45.307948Z"
        },
        "trusted": true,
        "colab": {
          "base_uri": "https://localhost:8080/"
        }
      },
      "execution_count": null,
      "outputs": [
        {
          "output_type": "stream",
          "name": "stdout",
          "text": [
            "VOCAB SIZE : 3644\n"
          ]
        }
      ]
    },
    {
      "cell_type": "code",
      "source": [
        "word2idx = tokenizer.word_index"
      ],
      "metadata": {
        "id": "xRrlh0_NLe5g",
        "execution": {
          "iopub.status.busy": "2022-05-19T08:23:45.309811Z",
          "iopub.execute_input": "2022-05-19T08:23:45.310062Z",
          "iopub.status.idle": "2022-05-19T08:23:45.314237Z",
          "shell.execute_reply.started": "2022-05-19T08:23:45.310027Z",
          "shell.execute_reply": "2022-05-19T08:23:45.313296Z"
        },
        "trusted": true
      },
      "execution_count": null,
      "outputs": []
    },
    {
      "cell_type": "code",
      "source": [
        "#encoder_input_data\n",
        "tokenized_questions = tokenizer.texts_to_sequences(questions)\n",
        "maxlen_questions = max([len(x) for x in tokenized_questions])\n",
        "padded_questions = pad_sequences(tokenized_questions, maxlen = maxlen_questions, padding = 'post')\n",
        "encoder_input_data = np.array(padded_questions)\n",
        "print(\"Max length question:\", maxlen_questions)\n",
        "print(encoder_input_data.shape)"
      ],
      "metadata": {
        "id": "LRbibHDuKqY0",
        "outputId": "76fba7f6-c890-432f-956d-ff63558f2862",
        "execution": {
          "iopub.status.busy": "2022-05-19T08:23:45.354341Z",
          "iopub.execute_input": "2022-05-19T08:23:45.355870Z",
          "iopub.status.idle": "2022-05-19T08:23:45.405070Z",
          "shell.execute_reply.started": "2022-05-19T08:23:45.355833Z",
          "shell.execute_reply": "2022-05-19T08:23:45.404409Z"
        },
        "trusted": true,
        "colab": {
          "base_uri": "https://localhost:8080/"
        }
      },
      "execution_count": null,
      "outputs": [
        {
          "output_type": "stream",
          "name": "stdout",
          "text": [
            "Max length question: 76\n",
            "(5900, 76)\n"
          ]
        }
      ]
    },
    {
      "cell_type": "code",
      "source": [
        "# decoder_input_data\n",
        "tokenized_answers = tokenizer.texts_to_sequences(answers)\n",
        "maxlen_answers = max([len(x) for x in tokenized_answers])\n",
        "padded_answers = pad_sequences(tokenized_answers, maxlen = maxlen_answers, padding='post')\n",
        "decoder_input_data = np.array(padded_answers)\n",
        "print(\"Max length anwser:\", maxlen_answers)\n",
        "print(decoder_input_data.shape)"
      ],
      "metadata": {
        "id": "FSuEOE4rLCzo",
        "outputId": "c86370b4-bb68-4658-b1d4-540b89554bfa",
        "execution": {
          "iopub.status.busy": "2022-05-19T08:23:45.406085Z",
          "iopub.execute_input": "2022-05-19T08:23:45.406407Z",
          "iopub.status.idle": "2022-05-19T08:23:45.455365Z",
          "shell.execute_reply.started": "2022-05-19T08:23:45.406363Z",
          "shell.execute_reply": "2022-05-19T08:23:45.454674Z"
        },
        "trusted": true,
        "colab": {
          "base_uri": "https://localhost:8080/"
        }
      },
      "execution_count": null,
      "outputs": [
        {
          "output_type": "stream",
          "name": "stdout",
          "text": [
            "Max length anwser: 43\n",
            "(5900, 43)\n"
          ]
        }
      ]
    },
    {
      "cell_type": "code",
      "source": [
        "# decoder_output_data\n",
        "tokenized_answers = tokenizer.texts_to_sequences(answers)\n",
        "# Remove Start added before\n",
        "for i in range(len(tokenized_answers)):\n",
        "    tokenized_answers[i] = tokenized_answers[i][1:]\n",
        "padded_answers = pad_sequences(tokenized_answers, maxlen = maxlen_answers, padding='post')\n",
        "onehot_answers = utils.to_categorical(padded_answers, VOCAB_SIZE)\n",
        "decoder_output_data = np.array(onehot_answers)\n",
        "print(decoder_output_data.shape)"
      ],
      "metadata": {
        "id": "AEHXML0aLRx9",
        "outputId": "80e9e7fb-719d-40a8-ac6c-90bf1c0f683b",
        "execution": {
          "iopub.status.busy": "2022-05-19T08:23:45.456547Z",
          "iopub.execute_input": "2022-05-19T08:23:45.456963Z",
          "iopub.status.idle": "2022-05-19T08:23:48.004689Z",
          "shell.execute_reply.started": "2022-05-19T08:23:45.456928Z",
          "shell.execute_reply": "2022-05-19T08:23:48.003916Z"
        },
        "trusted": true,
        "colab": {
          "base_uri": "https://localhost:8080/"
        }
      },
      "execution_count": null,
      "outputs": [
        {
          "output_type": "stream",
          "name": "stdout",
          "text": [
            "(5900, 43, 3644)\n"
          ]
        }
      ]
    },
    {
      "cell_type": "markdown",
      "source": [
        "**Word2Vec Embedding with FastText**"
      ],
      "metadata": {
        "id": "XIRPpLBYyhwG"
      }
    },
    {
      "cell_type": "code",
      "source": [
        "fastText_model = KeyedVectors.load_word2vec_format('/content/drive/MyDrive/wiki.vi.vec')\n",
        "print(\"FastText Loaded!\")"
      ],
      "metadata": {
        "execution": {
          "iopub.status.busy": "2022-05-19T08:23:48.005859Z",
          "iopub.execute_input": "2022-05-19T08:23:48.006571Z",
          "iopub.status.idle": "2022-05-19T08:24:47.764822Z",
          "shell.execute_reply.started": "2022-05-19T08:23:48.006530Z",
          "shell.execute_reply": "2022-05-19T08:24:47.764009Z"
        },
        "trusted": true,
        "id": "cu2AjHISyhwG",
        "outputId": "75907e17-233f-4cb3-c8f4-6f97036cafe5",
        "colab": {
          "base_uri": "https://localhost:8080/"
        }
      },
      "execution_count": null,
      "outputs": [
        {
          "output_type": "stream",
          "name": "stdout",
          "text": [
            "FastText Loaded!\n"
          ]
        }
      ]
    },
    {
      "cell_type": "code",
      "source": [
        "embeddings_dim = 300\n",
        "\n",
        "embedding_matrix = np.zeros((VOCAB_SIZE, embeddings_dim))\n",
        "\n",
        "for word, index in word2idx.items():\n",
        "    try:\n",
        "        embedding_matrix[index,:] = fastText_model[word]\n",
        "    except:\n",
        "        continue\n",
        "        \n",
        "print(embedding_matrix.shape)"
      ],
      "metadata": {
        "execution": {
          "iopub.status.busy": "2022-05-19T08:24:47.766280Z",
          "iopub.execute_input": "2022-05-19T08:24:47.766714Z",
          "iopub.status.idle": "2022-05-19T08:24:47.789544Z",
          "shell.execute_reply.started": "2022-05-19T08:24:47.766673Z",
          "shell.execute_reply": "2022-05-19T08:24:47.788696Z"
        },
        "trusted": true,
        "id": "aqRqb_KYyhwG",
        "outputId": "b395e526-8bc3-4f23-87d4-c38ed2df93f8",
        "colab": {
          "base_uri": "https://localhost:8080/"
        }
      },
      "execution_count": null,
      "outputs": [
        {
          "output_type": "stream",
          "name": "stdout",
          "text": [
            "(3644, 300)\n"
          ]
        }
      ]
    },
    {
      "cell_type": "markdown",
      "source": [
        "**Model Defination**"
      ],
      "metadata": {
        "id": "GMCTx2fdyhwG"
      }
    },
    {
      "cell_type": "code",
      "source": [
        "# Define Embedding Layer\n",
        "embedding_layer_question = Embedding(VOCAB_SIZE,embeddings_dim\n",
        "                                     ,input_length=maxlen_questions\n",
        "                                     ,weights = [embedding_matrix]\n",
        "                                     ,trainable=False)\n",
        "\n",
        "embedding_layer_answer = Embedding(VOCAB_SIZE,embeddings_dim\n",
        "                                     ,input_length=maxlen_answers\n",
        "                                     ,weights = [embedding_matrix]\n",
        "                                     ,trainable=False)"
      ],
      "metadata": {
        "execution": {
          "iopub.status.busy": "2022-05-19T08:24:47.790878Z",
          "iopub.execute_input": "2022-05-19T08:24:47.791290Z",
          "iopub.status.idle": "2022-05-19T08:24:47.808126Z",
          "shell.execute_reply.started": "2022-05-19T08:24:47.791251Z",
          "shell.execute_reply": "2022-05-19T08:24:47.807300Z"
        },
        "trusted": true,
        "id": "D3IYijSFyhwG"
      },
      "execution_count": null,
      "outputs": []
    },
    {
      "cell_type": "code",
      "source": [
        "# Define the model\n",
        "encoder_inputs = Input(shape = (maxlen_questions, ))\n",
        "encoder_embedding = embedding_layer_question(encoder_inputs)\n",
        "encoder_outputs, state_h, state_c = LSTM(300,dropout=0.05,return_state=True)(encoder_embedding)\n",
        "encoder_states = [state_h, state_c]\n",
        "\n",
        "decoder_inputs = Input(shape=(maxlen_answers, ))\n",
        "decoder_embedding = embedding_layer_answer(decoder_inputs)\n",
        "decoder_lstm = LSTM(300, return_state=True, return_sequences=True,dropout=0.05)\n",
        "decoder_outputs , _ , _ = decoder_lstm(decoder_embedding, initial_state=encoder_states)\n",
        "decoder_dense = Dense(VOCAB_SIZE, activation='softmax') \n",
        "output = decoder_dense(decoder_outputs)\n",
        "\n",
        "model = Model([encoder_inputs, decoder_inputs], output)\n",
        "model.compile(optimizer = 'adam', loss = 'categorical_crossentropy', metrics=['acc'])\n",
        "\n",
        "model.summary()"
      ],
      "metadata": {
        "id": "FsoW9mPPRSSk",
        "outputId": "60205604-838d-4704-fa5c-d8c92d89d2c7",
        "execution": {
          "iopub.status.busy": "2022-05-19T08:24:47.809460Z",
          "iopub.execute_input": "2022-05-19T08:24:47.809791Z",
          "iopub.status.idle": "2022-05-19T08:24:49.683873Z",
          "shell.execute_reply.started": "2022-05-19T08:24:47.809758Z",
          "shell.execute_reply": "2022-05-19T08:24:49.683119Z"
        },
        "trusted": true,
        "colab": {
          "base_uri": "https://localhost:8080/"
        }
      },
      "execution_count": null,
      "outputs": [
        {
          "output_type": "stream",
          "name": "stdout",
          "text": [
            "Model: \"model\"\n",
            "__________________________________________________________________________________________________\n",
            " Layer (type)                   Output Shape         Param #     Connected to                     \n",
            "==================================================================================================\n",
            " input_1 (InputLayer)           [(None, 76)]         0           []                               \n",
            "                                                                                                  \n",
            " input_2 (InputLayer)           [(None, 43)]         0           []                               \n",
            "                                                                                                  \n",
            " embedding (Embedding)          (None, 76, 300)      1093200     ['input_1[0][0]']                \n",
            "                                                                                                  \n",
            " embedding_1 (Embedding)        (None, 43, 300)      1093200     ['input_2[0][0]']                \n",
            "                                                                                                  \n",
            " lstm (LSTM)                    [(None, 300),        721200      ['embedding[0][0]']              \n",
            "                                 (None, 300),                                                     \n",
            "                                 (None, 300)]                                                     \n",
            "                                                                                                  \n",
            " lstm_1 (LSTM)                  [(None, 43, 300),    721200      ['embedding_1[0][0]',            \n",
            "                                 (None, 300),                     'lstm[0][1]',                   \n",
            "                                 (None, 300)]                     'lstm[0][2]']                   \n",
            "                                                                                                  \n",
            " dense (Dense)                  (None, 43, 3644)     1096844     ['lstm_1[0][0]']                 \n",
            "                                                                                                  \n",
            "==================================================================================================\n",
            "Total params: 4,725,644\n",
            "Trainable params: 2,539,244\n",
            "Non-trainable params: 2,186,400\n",
            "__________________________________________________________________________________________________\n"
          ]
        }
      ]
    },
    {
      "cell_type": "markdown",
      "source": [
        "![Picture1.png](data:image/png;base64,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)"
      ],
      "metadata": {
        "id": "bLToBxui02lZ"
      }
    },
    {
      "cell_type": "code",
      "source": [
        "checkpoint = ModelCheckpoint('model.h5', monitor='loss', verbose=1, save_best_only=True)\n",
        "\n",
        "# train model\n",
        "history = model.fit([encoder_input_data , decoder_input_data], decoder_output_data, batch_size=50, epochs=200) "
      ],
      "metadata": {
        "id": "TvpmndMTDwU0",
        "execution": {
          "iopub.status.busy": "2022-05-19T08:24:49.685000Z",
          "iopub.execute_input": "2022-05-19T08:24:49.685247Z",
          "iopub.status.idle": "2022-05-19T08:43:15.138154Z",
          "shell.execute_reply.started": "2022-05-19T08:24:49.685210Z",
          "shell.execute_reply": "2022-05-19T08:43:15.137437Z"
        },
        "trusted": true,
        "outputId": "1761a0c9-673e-4413-c7e6-3503a3931dc3"
      },
      "execution_count": null,
      "outputs": [
        {
          "name": "stderr",
          "text": "2022-05-19 08:24:49.692038: W tensorflow/core/framework/cpu_allocator_impl.cc:80] Allocation of 3697931200 exceeds 10% of free system memory.\n2022-05-19 08:24:53.482657: W tensorflow/core/framework/cpu_allocator_impl.cc:80] Allocation of 3697931200 exceeds 10% of free system memory.\n2022-05-19 08:24:56.139322: I tensorflow/compiler/mlir/mlir_graph_optimization_pass.cc:185] None of the MLIR Optimization Passes are enabled (registered 2)\n",
          "output_type": "stream"
        },
        {
          "name": "stdout",
          "text": "Epoch 1/200\n",
          "output_type": "stream"
        },
        {
          "name": "stderr",
          "text": "2022-05-19 08:24:58.693870: I tensorflow/stream_executor/cuda/cuda_dnn.cc:369] Loaded cuDNN version 8005\n",
          "output_type": "stream"
        },
        {
          "name": "stdout",
          "text": "118/118 [==============================] - 9s 46ms/step - loss: 1.1024 - acc: 0.9146\nEpoch 2/200\n118/118 [==============================] - 5s 46ms/step - loss: 0.4781 - acc: 0.9360\nEpoch 3/200\n118/118 [==============================] - 5s 46ms/step - loss: 0.4609 - acc: 0.9364\nEpoch 4/200\n118/118 [==============================] - 5s 47ms/step - loss: 0.4488 - acc: 0.9364\nEpoch 5/200\n118/118 [==============================] - 6s 48ms/step - loss: 0.4385 - acc: 0.9367\nEpoch 6/200\n118/118 [==============================] - 5s 47ms/step - loss: 0.4283 - acc: 0.9372\nEpoch 7/200\n118/118 [==============================] - 6s 47ms/step - loss: 0.4183 - acc: 0.9377\nEpoch 8/200\n118/118 [==============================] - 5s 46ms/step - loss: 0.4089 - acc: 0.9381\nEpoch 9/200\n118/118 [==============================] - 5s 46ms/step - loss: 0.4003 - acc: 0.9383\nEpoch 10/200\n118/118 [==============================] - 5s 46ms/step - loss: 0.3917 - acc: 0.9387\nEpoch 11/200\n118/118 [==============================] - 6s 47ms/step - loss: 0.3828 - acc: 0.9392\nEpoch 12/200\n118/118 [==============================] - 5s 46ms/step - loss: 0.3739 - acc: 0.9397\nEpoch 13/200\n118/118 [==============================] - 5s 46ms/step - loss: 0.3651 - acc: 0.9402\nEpoch 14/200\n118/118 [==============================] - 5s 46ms/step - loss: 0.3560 - acc: 0.9407\nEpoch 15/200\n118/118 [==============================] - 5s 46ms/step - loss: 0.3473 - acc: 0.9414\nEpoch 16/200\n118/118 [==============================] - 5s 46ms/step - loss: 0.3386 - acc: 0.9420\nEpoch 17/200\n118/118 [==============================] - 6s 48ms/step - loss: 0.3298 - acc: 0.9427\nEpoch 18/200\n118/118 [==============================] - 5s 46ms/step - loss: 0.3212 - acc: 0.9435\nEpoch 19/200\n118/118 [==============================] - 5s 46ms/step - loss: 0.3130 - acc: 0.9445\nEpoch 20/200\n118/118 [==============================] - 5s 46ms/step - loss: 0.3050 - acc: 0.9456\nEpoch 21/200\n118/118 [==============================] - 5s 46ms/step - loss: 0.2973 - acc: 0.9468\nEpoch 22/200\n118/118 [==============================] - 5s 46ms/step - loss: 0.2900 - acc: 0.9477\nEpoch 23/200\n118/118 [==============================] - 6s 47ms/step - loss: 0.2832 - acc: 0.9488\nEpoch 24/200\n118/118 [==============================] - 5s 46ms/step - loss: 0.2764 - acc: 0.9499\nEpoch 25/200\n118/118 [==============================] - 5s 46ms/step - loss: 0.2704 - acc: 0.9507\nEpoch 26/200\n118/118 [==============================] - 5s 46ms/step - loss: 0.2647 - acc: 0.9516\nEpoch 27/200\n118/118 [==============================] - 5s 46ms/step - loss: 0.2594 - acc: 0.9524\nEpoch 28/200\n118/118 [==============================] - 5s 46ms/step - loss: 0.2545 - acc: 0.9532\nEpoch 29/200\n118/118 [==============================] - 6s 48ms/step - loss: 0.2568 - acc: 0.9532\nEpoch 30/200\n118/118 [==============================] - 5s 46ms/step - loss: 0.2465 - acc: 0.9543\nEpoch 31/200\n118/118 [==============================] - 6s 47ms/step - loss: 0.2426 - acc: 0.9554\nEpoch 32/200\n118/118 [==============================] - 5s 46ms/step - loss: 0.2389 - acc: 0.9558\nEpoch 33/200\n118/118 [==============================] - 5s 46ms/step - loss: 0.2357 - acc: 0.9563\nEpoch 34/200\n118/118 [==============================] - 5s 46ms/step - loss: 0.2324 - acc: 0.9568\nEpoch 35/200\n118/118 [==============================] - 6s 48ms/step - loss: 0.2292 - acc: 0.9573\nEpoch 36/200\n118/118 [==============================] - 5s 46ms/step - loss: 0.2261 - acc: 0.9579\nEpoch 37/200\n118/118 [==============================] - 6s 47ms/step - loss: 0.2234 - acc: 0.9583\nEpoch 38/200\n118/118 [==============================] - 5s 46ms/step - loss: 0.2211 - acc: 0.9587\nEpoch 39/200\n118/118 [==============================] - 5s 46ms/step - loss: 0.2183 - acc: 0.9592\nEpoch 40/200\n118/118 [==============================] - 5s 45ms/step - loss: 0.2160 - acc: 0.9596\nEpoch 41/200\n118/118 [==============================] - 6s 48ms/step - loss: 0.2134 - acc: 0.9600\nEpoch 42/200\n118/118 [==============================] - 5s 46ms/step - loss: 0.2109 - acc: 0.9602\nEpoch 43/200\n118/118 [==============================] - 5s 46ms/step - loss: 0.2087 - acc: 0.9605\nEpoch 44/200\n118/118 [==============================] - 5s 46ms/step - loss: 0.2064 - acc: 0.9610\nEpoch 45/200\n118/118 [==============================] - 5s 46ms/step - loss: 0.2038 - acc: 0.9615\nEpoch 46/200\n118/118 [==============================] - 5s 46ms/step - loss: 0.2020 - acc: 0.9618\nEpoch 47/200\n118/118 [==============================] - 6s 48ms/step - loss: 0.2002 - acc: 0.9621\nEpoch 48/200\n118/118 [==============================] - 5s 46ms/step - loss: 0.1982 - acc: 0.9624\nEpoch 49/200\n118/118 [==============================] - 5s 47ms/step - loss: 0.1966 - acc: 0.9627\nEpoch 50/200\n118/118 [==============================] - 5s 46ms/step - loss: 0.1946 - acc: 0.9630\nEpoch 51/200\n118/118 [==============================] - 6s 47ms/step - loss: 0.1928 - acc: 0.9634\nEpoch 52/200\n118/118 [==============================] - 5s 46ms/step - loss: 0.1919 - acc: 0.9636\nEpoch 53/200\n118/118 [==============================] - 5s 46ms/step - loss: 0.1899 - acc: 0.9640\nEpoch 54/200\n118/118 [==============================] - 6s 48ms/step - loss: 0.1882 - acc: 0.9642\nEpoch 55/200\n118/118 [==============================] - 5s 46ms/step - loss: 0.1871 - acc: 0.9642\nEpoch 56/200\n118/118 [==============================] - 5s 46ms/step - loss: 0.1851 - acc: 0.9647\nEpoch 57/200\n118/118 [==============================] - 5s 46ms/step - loss: 0.1838 - acc: 0.9649\nEpoch 58/200\n118/118 [==============================] - 5s 46ms/step - loss: 0.1821 - acc: 0.9653\nEpoch 59/200\n118/118 [==============================] - 5s 46ms/step - loss: 0.1811 - acc: 0.9655\nEpoch 60/200\n118/118 [==============================] - 6s 47ms/step - loss: 0.1804 - acc: 0.9657\nEpoch 61/200\n118/118 [==============================] - 5s 46ms/step - loss: 0.1792 - acc: 0.9656\nEpoch 62/200\n118/118 [==============================] - 5s 46ms/step - loss: 0.1782 - acc: 0.9659\nEpoch 63/200\n118/118 [==============================] - 5s 46ms/step - loss: 0.1772 - acc: 0.9660\nEpoch 64/200\n118/118 [==============================] - 5s 46ms/step - loss: 0.1755 - acc: 0.9664\nEpoch 65/200\n118/118 [==============================] - 6s 47ms/step - loss: 0.1744 - acc: 0.9668\nEpoch 66/200\n118/118 [==============================] - 6s 48ms/step - loss: 0.1728 - acc: 0.9669\nEpoch 67/200\n118/118 [==============================] - 5s 46ms/step - loss: 0.1722 - acc: 0.9670\nEpoch 68/200\n118/118 [==============================] - 5s 46ms/step - loss: 0.1704 - acc: 0.9672\nEpoch 69/200\n118/118 [==============================] - 5s 46ms/step - loss: 0.1694 - acc: 0.9674\nEpoch 70/200\n118/118 [==============================] - 5s 46ms/step - loss: 0.1680 - acc: 0.9677\nEpoch 71/200\n118/118 [==============================] - 5s 46ms/step - loss: 0.1671 - acc: 0.9678\nEpoch 72/200\n118/118 [==============================] - 6s 47ms/step - loss: 0.1661 - acc: 0.9679\nEpoch 73/200\n118/118 [==============================] - 5s 46ms/step - loss: 0.1651 - acc: 0.9681\nEpoch 74/200\n118/118 [==============================] - 5s 46ms/step - loss: 0.1640 - acc: 0.9684\nEpoch 75/200\n118/118 [==============================] - 6s 47ms/step - loss: 0.1630 - acc: 0.9685\nEpoch 76/200\n118/118 [==============================] - 5s 46ms/step - loss: 0.1620 - acc: 0.9687\nEpoch 77/200\n118/118 [==============================] - 5s 47ms/step - loss: 0.1612 - acc: 0.9687\nEpoch 78/200\n118/118 [==============================] - 6s 47ms/step - loss: 0.1603 - acc: 0.9689\nEpoch 79/200\n118/118 [==============================] - 5s 47ms/step - loss: 0.1591 - acc: 0.9689\nEpoch 80/200\n118/118 [==============================] - 5s 46ms/step - loss: 0.1585 - acc: 0.9690\nEpoch 81/200\n118/118 [==============================] - 5s 46ms/step - loss: 0.1575 - acc: 0.9693\nEpoch 82/200\n118/118 [==============================] - 5s 46ms/step - loss: 0.1565 - acc: 0.9693\nEpoch 83/200\n118/118 [==============================] - 5s 47ms/step - loss: 0.1563 - acc: 0.9695\nEpoch 84/200\n118/118 [==============================] - 6s 48ms/step - loss: 0.1556 - acc: 0.9696\nEpoch 85/200\n118/118 [==============================] - 6s 47ms/step - loss: 0.1542 - acc: 0.9696\nEpoch 86/200\n118/118 [==============================] - 5s 46ms/step - loss: 0.1533 - acc: 0.9699\nEpoch 87/200\n118/118 [==============================] - 5s 46ms/step - loss: 0.1522 - acc: 0.9701\nEpoch 88/200\n118/118 [==============================] - 5s 46ms/step - loss: 0.1512 - acc: 0.9704\nEpoch 89/200\n118/118 [==============================] - 5s 46ms/step - loss: 0.1506 - acc: 0.9703\nEpoch 90/200\n118/118 [==============================] - 6s 48ms/step - loss: 0.1496 - acc: 0.9706\nEpoch 91/200\n118/118 [==============================] - 5s 46ms/step - loss: 0.1486 - acc: 0.9707\nEpoch 92/200\n118/118 [==============================] - 5s 46ms/step - loss: 0.1480 - acc: 0.9709\nEpoch 93/200\n118/118 [==============================] - 6s 47ms/step - loss: 0.1470 - acc: 0.9708\nEpoch 94/200\n118/118 [==============================] - 5s 46ms/step - loss: 0.1470 - acc: 0.9708\nEpoch 95/200\n118/118 [==============================] - 6s 47ms/step - loss: 0.1467 - acc: 0.9711\nEpoch 96/200\n118/118 [==============================] - 6s 48ms/step - loss: 0.1455 - acc: 0.9712\nEpoch 97/200\n118/118 [==============================] - 5s 46ms/step - loss: 0.1442 - acc: 0.9714\nEpoch 98/200\n118/118 [==============================] - 5s 46ms/step - loss: 0.1439 - acc: 0.9715\nEpoch 99/200\n118/118 [==============================] - 5s 46ms/step - loss: 0.1438 - acc: 0.9714\nEpoch 100/200\n118/118 [==============================] - 5s 46ms/step - loss: 0.1424 - acc: 0.9717\nEpoch 101/200\n118/118 [==============================] - 5s 46ms/step - loss: 0.1417 - acc: 0.9717\nEpoch 102/200\n118/118 [==============================] - 6s 47ms/step - loss: 0.1410 - acc: 0.9718\nEpoch 103/200\n118/118 [==============================] - 5s 46ms/step - loss: 0.1401 - acc: 0.9720\nEpoch 104/200\n118/118 [==============================] - 5s 46ms/step - loss: 0.1394 - acc: 0.9720\nEpoch 105/200\n118/118 [==============================] - 5s 46ms/step - loss: 0.1387 - acc: 0.9721\nEpoch 106/200\n118/118 [==============================] - 5s 46ms/step - loss: 0.1379 - acc: 0.9722\nEpoch 107/200\n118/118 [==============================] - 6s 47ms/step - loss: 0.1368 - acc: 0.9726\nEpoch 108/200\n118/118 [==============================] - 6s 48ms/step - loss: 0.1361 - acc: 0.9725\nEpoch 109/200\n118/118 [==============================] - 5s 46ms/step - loss: 0.1347 - acc: 0.9728\nEpoch 110/200\n118/118 [==============================] - 5s 46ms/step - loss: 0.1344 - acc: 0.9730\nEpoch 111/200\n118/118 [==============================] - 6s 48ms/step - loss: 0.1339 - acc: 0.9728\nEpoch 112/200\n118/118 [==============================] - 5s 46ms/step - loss: 0.1327 - acc: 0.9731\nEpoch 113/200\n118/118 [==============================] - 5s 46ms/step - loss: 0.1314 - acc: 0.9733\nEpoch 114/200\n118/118 [==============================] - 6s 47ms/step - loss: 0.1305 - acc: 0.9735\nEpoch 115/200\n118/118 [==============================] - 6s 47ms/step - loss: 0.1304 - acc: 0.9735\nEpoch 116/200\n118/118 [==============================] - 5s 46ms/step - loss: 0.1295 - acc: 0.9736\nEpoch 117/200\n118/118 [==============================] - 5s 46ms/step - loss: 0.1293 - acc: 0.9736\nEpoch 118/200\n118/118 [==============================] - 5s 46ms/step - loss: 0.1283 - acc: 0.9737\nEpoch 119/200\n118/118 [==============================] - 5s 46ms/step - loss: 0.1279 - acc: 0.9737\nEpoch 120/200\n118/118 [==============================] - 6s 47ms/step - loss: 0.1266 - acc: 0.9741\nEpoch 121/200\n118/118 [==============================] - 5s 46ms/step - loss: 0.1252 - acc: 0.9743\nEpoch 122/200\n118/118 [==============================] - 5s 46ms/step - loss: 0.1247 - acc: 0.9743\nEpoch 123/200\n118/118 [==============================] - 5s 46ms/step - loss: 0.1248 - acc: 0.9743\nEpoch 124/200\n118/118 [==============================] - 5s 46ms/step - loss: 0.1234 - acc: 0.9745\nEpoch 125/200\n118/118 [==============================] - 6s 47ms/step - loss: 0.1223 - acc: 0.9747\nEpoch 126/200\n118/118 [==============================] - 5s 46ms/step - loss: 0.1214 - acc: 0.9748\nEpoch 127/200\n118/118 [==============================] - 5s 46ms/step - loss: 0.1204 - acc: 0.9748\nEpoch 128/200\n118/118 [==============================] - 5s 46ms/step - loss: 0.1196 - acc: 0.9752\nEpoch 129/200\n118/118 [==============================] - 5s 46ms/step - loss: 0.1191 - acc: 0.9752\nEpoch 130/200\n118/118 [==============================] - 5s 46ms/step - loss: 0.1185 - acc: 0.9752\nEpoch 131/200\n118/118 [==============================] - 6s 48ms/step - loss: 0.1180 - acc: 0.9754\nEpoch 132/200\n118/118 [==============================] - 5s 46ms/step - loss: 0.1166 - acc: 0.9755\nEpoch 133/200\n118/118 [==============================] - 5s 46ms/step - loss: 0.1151 - acc: 0.9757\nEpoch 134/200\n118/118 [==============================] - 5s 46ms/step - loss: 0.1147 - acc: 0.9757\nEpoch 135/200\n118/118 [==============================] - 5s 47ms/step - loss: 0.1136 - acc: 0.9759\nEpoch 136/200\n118/118 [==============================] - 5s 46ms/step - loss: 0.1135 - acc: 0.9759\nEpoch 137/200\n118/118 [==============================] - 6s 47ms/step - loss: 0.1129 - acc: 0.9758\nEpoch 138/200\n118/118 [==============================] - 5s 47ms/step - loss: 0.1125 - acc: 0.9760\nEpoch 139/200\n118/118 [==============================] - 5s 46ms/step - loss: 0.1111 - acc: 0.9761\nEpoch 140/200\n118/118 [==============================] - 5s 46ms/step - loss: 0.1101 - acc: 0.9764\nEpoch 141/200\n118/118 [==============================] - 5s 46ms/step - loss: 0.1095 - acc: 0.9765\nEpoch 142/200\n118/118 [==============================] - 5s 46ms/step - loss: 0.1087 - acc: 0.9766\nEpoch 143/200\n118/118 [==============================] - 6s 48ms/step - loss: 0.1078 - acc: 0.9766\nEpoch 144/200\n118/118 [==============================] - 5s 46ms/step - loss: 0.1071 - acc: 0.9767\nEpoch 145/200\n118/118 [==============================] - 6s 47ms/step - loss: 0.1066 - acc: 0.9767\nEpoch 146/200\n118/118 [==============================] - 5s 46ms/step - loss: 0.1055 - acc: 0.9770\nEpoch 147/200\n118/118 [==============================] - 6s 47ms/step - loss: 0.1045 - acc: 0.9771\nEpoch 148/200\n118/118 [==============================] - 5s 46ms/step - loss: 0.1035 - acc: 0.9771\nEpoch 149/200\n118/118 [==============================] - 6s 48ms/step - loss: 0.1031 - acc: 0.9772\nEpoch 150/200\n118/118 [==============================] - 5s 46ms/step - loss: 0.1031 - acc: 0.9772\nEpoch 151/200\n118/118 [==============================] - 5s 46ms/step - loss: 0.1021 - acc: 0.9773\nEpoch 152/200\n118/118 [==============================] - 5s 46ms/step - loss: 0.1017 - acc: 0.9774\nEpoch 153/200\n118/118 [==============================] - 6s 47ms/step - loss: 0.1008 - acc: 0.9775\nEpoch 154/200\n118/118 [==============================] - 5s 46ms/step - loss: 0.0997 - acc: 0.9775\nEpoch 155/200\n118/118 [==============================] - 6s 49ms/step - loss: 0.0990 - acc: 0.9778\nEpoch 156/200\n118/118 [==============================] - 5s 46ms/step - loss: 0.0989 - acc: 0.9778\nEpoch 157/200\n118/118 [==============================] - 5s 46ms/step - loss: 0.0977 - acc: 0.9779\nEpoch 158/200\n118/118 [==============================] - 5s 46ms/step - loss: 0.0971 - acc: 0.9780\nEpoch 159/200\n118/118 [==============================] - 5s 46ms/step - loss: 0.0963 - acc: 0.9781\nEpoch 160/200\n118/118 [==============================] - 5s 46ms/step - loss: 0.0958 - acc: 0.9781\nEpoch 161/200\n118/118 [==============================] - 6s 49ms/step - loss: 0.0957 - acc: 0.9782\nEpoch 162/200\n118/118 [==============================] - 5s 46ms/step - loss: 0.0941 - acc: 0.9785\nEpoch 163/200\n118/118 [==============================] - 5s 46ms/step - loss: 0.0935 - acc: 0.9785\nEpoch 164/200\n118/118 [==============================] - 5s 46ms/step - loss: 0.0929 - acc: 0.9787\nEpoch 165/200\n118/118 [==============================] - 5s 46ms/step - loss: 0.0918 - acc: 0.9788\nEpoch 166/200\n118/118 [==============================] - 5s 46ms/step - loss: 0.0909 - acc: 0.9790\nEpoch 167/200\n118/118 [==============================] - 6s 49ms/step - loss: 0.0913 - acc: 0.9789\nEpoch 168/200\n118/118 [==============================] - 5s 46ms/step - loss: 0.0906 - acc: 0.9788\nEpoch 169/200\n118/118 [==============================] - 5s 46ms/step - loss: 0.0897 - acc: 0.9790\nEpoch 170/200\n118/118 [==============================] - 5s 46ms/step - loss: 0.0889 - acc: 0.9792\nEpoch 171/200\n118/118 [==============================] - 5s 46ms/step - loss: 0.0875 - acc: 0.9794\nEpoch 172/200\n118/118 [==============================] - 5s 46ms/step - loss: 0.0869 - acc: 0.9794\nEpoch 173/200\n118/118 [==============================] - 6s 48ms/step - loss: 0.0867 - acc: 0.9797\nEpoch 174/200\n118/118 [==============================] - 5s 46ms/step - loss: 0.0863 - acc: 0.9795\nEpoch 175/200\n118/118 [==============================] - 5s 47ms/step - loss: 0.0851 - acc: 0.9796\nEpoch 176/200\n118/118 [==============================] - 5s 46ms/step - loss: 0.0846 - acc: 0.9800\nEpoch 177/200\n118/118 [==============================] - 5s 47ms/step - loss: 0.0840 - acc: 0.9799\nEpoch 178/200\n118/118 [==============================] - 5s 46ms/step - loss: 0.0847 - acc: 0.9798\nEpoch 179/200\n118/118 [==============================] - 5s 46ms/step - loss: 0.0837 - acc: 0.9799\nEpoch 180/200\n118/118 [==============================] - 5s 46ms/step - loss: 0.0822 - acc: 0.9802\nEpoch 181/200\n118/118 [==============================] - 6s 49ms/step - loss: 0.0813 - acc: 0.9804\nEpoch 182/200\n118/118 [==============================] - 5s 46ms/step - loss: 0.0825 - acc: 0.9800\nEpoch 183/200\n118/118 [==============================] - 5s 46ms/step - loss: 0.0811 - acc: 0.9801\nEpoch 184/200\n118/118 [==============================] - 5s 46ms/step - loss: 0.0792 - acc: 0.9805\nEpoch 185/200\n118/118 [==============================] - 5s 46ms/step - loss: 0.0791 - acc: 0.9806\nEpoch 186/200\n118/118 [==============================] - 5s 46ms/step - loss: 0.0779 - acc: 0.9808\nEpoch 187/200\n118/118 [==============================] - 6s 48ms/step - loss: 0.0774 - acc: 0.9809\nEpoch 188/200\n118/118 [==============================] - 5s 46ms/step - loss: 0.0765 - acc: 0.9810\nEpoch 189/200\n118/118 [==============================] - 5s 47ms/step - loss: 0.0752 - acc: 0.9812\nEpoch 190/200\n118/118 [==============================] - 5s 46ms/step - loss: 0.0746 - acc: 0.9814\nEpoch 191/200\n118/118 [==============================] - 5s 46ms/step - loss: 0.0738 - acc: 0.9816\nEpoch 192/200\n118/118 [==============================] - 5s 46ms/step - loss: 0.0731 - acc: 0.9816\nEpoch 193/200\n118/118 [==============================] - 6s 48ms/step - loss: 0.0715 - acc: 0.9819\nEpoch 194/200\n118/118 [==============================] - 5s 45ms/step - loss: 0.0706 - acc: 0.9822\nEpoch 195/200\n118/118 [==============================] - 5s 46ms/step - loss: 0.0706 - acc: 0.9821\nEpoch 196/200\n118/118 [==============================] - 5s 46ms/step - loss: 0.0696 - acc: 0.9821\nEpoch 197/200\n118/118 [==============================] - 5s 46ms/step - loss: 0.0681 - acc: 0.9823\nEpoch 198/200\n118/118 [==============================] - 5s 46ms/step - loss: 0.0676 - acc: 0.9826\nEpoch 199/200\n118/118 [==============================] - 6s 49ms/step - loss: 0.0670 - acc: 0.9827\nEpoch 200/200\n118/118 [==============================] - 5s 46ms/step - loss: 0.0667 - acc: 0.9829\n",
          "output_type": "stream"
        }
      ]
    },
    {
      "cell_type": "markdown",
      "source": [
        "**Visualize Training Progress**"
      ],
      "metadata": {
        "id": "eH1yQPSRyhwH"
      }
    },
    {
      "cell_type": "code",
      "source": [
        "%matplotlib inline\n",
        "import matplotlib.pyplot as plt\n",
        "plt.rcParams['figure.figsize'] = (10, 5)\n",
        "# Plot training accuracy & loss values\n",
        "plt.plot(history.history['acc'])\n",
        "plt.plot(history.history['loss'])\n",
        "plt.title('Model accuracy')\n",
        "plt.ylabel('Value')\n",
        "plt.xlabel('Epoch')\n",
        "plt.legend(['Accuracy','Loss'], loc='upper left')\n",
        "plt.show()"
      ],
      "metadata": {
        "execution": {
          "iopub.status.busy": "2022-05-19T08:47:21.948190Z",
          "iopub.execute_input": "2022-05-19T08:47:21.948477Z",
          "iopub.status.idle": "2022-05-19T08:47:22.155294Z",
          "shell.execute_reply.started": "2022-05-19T08:47:21.948445Z",
          "shell.execute_reply": "2022-05-19T08:47:22.154553Z"
        },
        "trusted": true,
        "id": "w4JcHuaJyhwH",
        "outputId": "ad205e9f-48b2-4b8a-d63c-6ed925138379"
      },
      "execution_count": null,
      "outputs": [
        {
          "output_type": "display_data",
          "data": {
            "text/plain": "<Figure size 720x360 with 1 Axes>",
            "image/png": "[encoded data removed]"
          },
          "metadata": {
            "needs_background": "light"
          }
        }
      ]
    },
    {
      "cell_type": "code",
      "source": [
        "model.save_weights('chatbot_weights.h5')"
      ],
      "metadata": {
        "execution": {
          "iopub.status.busy": "2022-05-19T08:43:15.538662Z",
          "iopub.execute_input": "2022-05-19T08:43:15.538937Z",
          "iopub.status.idle": "2022-05-19T08:43:15.590903Z",
          "shell.execute_reply.started": "2022-05-19T08:43:15.538902Z",
          "shell.execute_reply": "2022-05-19T08:43:15.590099Z"
        },
        "trusted": true,
        "id": "Wt1s-hbuyhwH"
      },
      "execution_count": null,
      "outputs": []
    },
    {
      "cell_type": "markdown",
      "source": [
        "**Defining Inference Models**"
      ],
      "metadata": {
        "id": "8Z0RHIflyhwH"
      }
    },
    {
      "cell_type": "code",
      "source": [
        "model.load_weights('/content/drive/MyDrive/chatbot_weights.h5')"
      ],
      "metadata": {
        "id": "0JrTRx87CTVz"
      },
      "execution_count": null,
      "outputs": []
    },
    {
      "cell_type": "code",
      "source": [
        "def make_inference_models():\n",
        "    \n",
        "    encoder_model = Model(encoder_inputs, encoder_states)\n",
        "    \n",
        "    decoder_state_input_h = Input(shape=(300,))\n",
        "    decoder_state_input_c = Input(shape=(300,))\n",
        "    \n",
        "    decoder_states_inputs = [decoder_state_input_h, decoder_state_input_c]\n",
        "    \n",
        "    decoder_outputs, state_h, state_c = decoder_lstm(\n",
        "        decoder_embedding , initial_state=decoder_states_inputs)\n",
        "    \n",
        "    decoder_states = [state_h, state_c]\n",
        "\n",
        "    decoder_outputs = decoder_dense(decoder_outputs)\n",
        "    \n",
        "    decoder_model = Model(\n",
        "        [decoder_inputs] + decoder_states_inputs,\n",
        "        [decoder_outputs] + decoder_states)\n",
        "    \n",
        "    return encoder_model, decoder_model"
      ],
      "metadata": {
        "id": "7mIQvGDZTcHq",
        "execution": {
          "iopub.status.busy": "2022-05-19T08:43:15.592139Z",
          "iopub.execute_input": "2022-05-19T08:43:15.592406Z",
          "iopub.status.idle": "2022-05-19T08:43:15.600524Z",
          "shell.execute_reply.started": "2022-05-19T08:43:15.592358Z",
          "shell.execute_reply": "2022-05-19T08:43:15.599756Z"
        },
        "trusted": true
      },
      "execution_count": null,
      "outputs": []
    },
    {
      "cell_type": "markdown",
      "source": [
        "**Bot Chatting**"
      ],
      "metadata": {
        "id": "G2eRhxJTyhwI"
      }
    },
    {
      "cell_type": "code",
      "source": [
        "def str_to_tokens(sentence):\n",
        "    words = word_tokenize(sentence.lower())\n",
        "    tokens_list = []\n",
        "    \n",
        "    for word in words:\n",
        "        tokens_list.append(tokenizer.word_index[word]) \n",
        "    return pad_sequences([tokens_list],maxlen = maxlen_questions , padding='post')"
      ],
      "metadata": {
        "id": "EaVIb-nYTenp",
        "execution": {
          "iopub.status.busy": "2022-05-19T08:43:15.601745Z",
          "iopub.execute_input": "2022-05-19T08:43:15.601999Z",
          "iopub.status.idle": "2022-05-19T08:43:15.609073Z",
          "shell.execute_reply.started": "2022-05-19T08:43:15.601964Z",
          "shell.execute_reply": "2022-05-19T08:43:15.608366Z"
        },
        "trusted": true
      },
      "execution_count": null,
      "outputs": []
    },
    {
      "cell_type": "code",
      "source": [
        "enc_model ,dec_model = make_inference_models()\n",
        "\n",
        "flag=True\n",
        "print(\"BOT: Xin chào! Tôi là ChatBot. Nếu bạn muốn ngưng cuộc trò chuyện, hãy gõ Bye!\")\n",
        "\n",
        "while(flag==True):\n",
        "    human_response = input('Enter question : ')\n",
        "    if human_response != 'bye':\n",
        "        try:\n",
        "            states_values = enc_model.predict(str_to_tokens(human_response))\n",
        "            empty_target_seq = np.zeros((1, 1))\n",
        "            empty_target_seq[0, 0] = word2idx['start']\n",
        "            stop_condition = False\n",
        "            decoded_translation = ''\n",
        "            while not stop_condition:\n",
        "                dec_outputs, h, c = dec_model.predict([empty_target_seq] + states_values)\n",
        "\n",
        "                sampled_word_index = np.argmax(dec_outputs[0, -1, :])\n",
        "                sampled_word = None\n",
        "                for word, index in word2idx.items() :\n",
        "                    if sampled_word_index == index:\n",
        "                        decoded_translation += ' {}'.format(word)\n",
        "                        sampled_word = word\n",
        "\n",
        "                if sampled_word == 'end' or len(decoded_translation.split()) > maxlen_answers:\n",
        "                    stop_condition = True\n",
        "\n",
        "                empty_target_seq = np.zeros((1, 1))  \n",
        "                empty_target_seq[0 , 0] = sampled_word_index\n",
        "                states_values = [h, c] \n",
        "\n",
        "            print('BOT: ' + decoded_translation.replace(\"end\",\"\"))\n",
        "        except:\n",
        "            print(\"BOT: Xin lỗi câu này tôi chưa đc học ,vui lòng hỏi lại :( \")\n",
        "    else:\n",
        "        flag=False\n",
        "        print(\"BOT: Tạm biệt nha!\")\n",
        "    "
      ],
      "metadata": {
        "id": "mjaicXTBUBC7",
        "execution": {
          "iopub.status.busy": "2022-05-19T09:24:01.221749Z",
          "iopub.execute_input": "2022-05-19T09:24:01.222104Z",
          "iopub.status.idle": "2022-05-19T09:27:46.712328Z",
          "shell.execute_reply.started": "2022-05-19T09:24:01.222059Z",
          "shell.execute_reply": "2022-05-19T09:27:46.711490Z"
        },
        "trusted": true,
        "outputId": "1ae2de91-46bd-4892-8753-312fabc8c898",
        "colab": {
          "base_uri": "https://localhost:8080/"
        }
      },
      "execution_count": null,
      "outputs": [
        {
          "output_type": "stream",
          "name": "stdout",
          "text": [
            "BOT: Xin chào! Tôi là ChatBot. Nếu bạn muốn ngưng cuộc trò chuyện, hãy gõ Bye!\n",
            "Enter question : người yêu bạn tên gì\n",
            "WARNING:tensorflow:Model was constructed with shape (None, 43) for input KerasTensor(type_spec=TensorSpec(shape=(None, 43), dtype=tf.float32, name='input_2'), name='input_2', description=\"created by layer 'input_2'\"), but it was called on an input with incompatible shape (None, 1).\n",
            "BOT:  nguyệt \n",
            "Enter question : người yêu bạn học ở trường nào\n",
            "BOT:  trường đại học buôn ma thuột \n",
            "Enter question : bạn đang học ngành gì\n",
            "BOT:  công nghệ thông tin \n",
            "Enter question : bye\n",
            "BOT: Tạm biệt nha!\n"
          ]
        }
      ]
    }
  ]
}